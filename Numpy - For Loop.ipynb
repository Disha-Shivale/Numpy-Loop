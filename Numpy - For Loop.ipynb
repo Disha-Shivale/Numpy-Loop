{
 "cells": [
  {
   "cell_type": "code",
   "execution_count": 2,
   "metadata": {},
   "outputs": [
    {
     "name": "stdout",
     "output_type": "stream",
     "text": [
      "10\n",
      "20\n",
      "30\n",
      "40\n",
      "50\n",
      "70\n"
     ]
    }
   ],
   "source": [
    "#Use For loop to access elements\n",
    "import numpy as np\n",
    "i = np.array([10, 20, 30, 40, 50, 70])\n",
    "for j in i:\n",
    "    print(j)"
   ]
  },
  {
   "cell_type": "code",
   "execution_count": 5,
   "metadata": {},
   "outputs": [
    {
     "name": "stdout",
     "output_type": "stream",
     "text": [
      "[10 20 30]\n",
      "[40 50 60]\n",
      "[70 80 90]\n"
     ]
    }
   ],
   "source": [
    "#Access 2-D Elements\n",
    "import numpy as np\n",
    "i = np.array([[10, 20, 30], [40, 50, 60], [70,80,90]])\n",
    "for j in i:\n",
    "  print(j)"
   ]
  },
  {
   "cell_type": "code",
   "execution_count": 6,
   "metadata": {},
   "outputs": [
    {
     "name": "stdout",
     "output_type": "stream",
     "text": [
      "10\n",
      "20\n",
      "30\n",
      "40\n",
      "50\n",
      "60\n",
      "70\n",
      "80\n",
      "90\n"
     ]
    }
   ],
   "source": [
    "#Nested For loop\n",
    "import numpy as np\n",
    "i = np.array([[10, 20, 30], [40, 50, 60], [70,80,90]])\n",
    "for j in i:\n",
    "    for k in j:\n",
    "        print(k)"
   ]
  },
  {
   "cell_type": "code",
   "execution_count": 7,
   "metadata": {
    "scrolled": true
   },
   "outputs": [
    {
     "name": "stdout",
     "output_type": "stream",
     "text": [
      "[[10 20 30]\n",
      " [40 50 60]\n",
      " [70 80 90]]\n",
      "[[1 2 3]\n",
      " [4 5 6]\n",
      " [7 8 9]]\n",
      "[[10 20 30]\n",
      " [40 50 60]\n",
      " [70 80 90]]\n"
     ]
    }
   ],
   "source": [
    "#Access 3-D Elements\n",
    "import numpy as np\n",
    "i = np.array([\n",
    "[[10, 20, 30], [40, 50, 60], [70,80,90]],\n",
    "[[1, 2, 3], [4, 5, 6], [7,8,9]],\n",
    "[[10, 20, 30], [40, 50, 60], [70,80,90]],\n",
    "])\n",
    "for j in i:\n",
    "   print(j)\n",
    "\n"
   ]
  },
  {
   "cell_type": "code",
   "execution_count": 8,
   "metadata": {},
   "outputs": [
    {
     "name": "stdout",
     "output_type": "stream",
     "text": [
      "10\n",
      "20\n",
      "30\n",
      "40\n",
      "50\n",
      "60\n",
      "70\n",
      "80\n",
      "90\n",
      "1\n",
      "2\n",
      "3\n",
      "4\n",
      "5\n",
      "6\n",
      "7\n",
      "8\n",
      "9\n",
      "10\n",
      "20\n",
      "30\n",
      "40\n",
      "50\n",
      "60\n",
      "70\n",
      "80\n",
      "90\n"
     ]
    }
   ],
   "source": [
    "import numpy as np\n",
    "i = np.array([\n",
    "[[10, 20, 30], [40, 50, 60], [70,80,90]],\n",
    "[[1, 2, 3], [4, 5, 6], [7,8,9]],\n",
    "[[10, 20, 30], [40, 50, 60], [70,80,90]],\n",
    "])\n",
    "for j in i:\n",
    "  for k in j:\n",
    "     for m in k:\n",
    "        print(m)"
   ]
  }
 ],
 "metadata": {
  "kernelspec": {
   "display_name": "Python 3",
   "language": "python",
   "name": "python3"
  },
  "language_info": {
   "codemirror_mode": {
    "name": "ipython",
    "version": 3
   },
   "file_extension": ".py",
   "mimetype": "text/x-python",
   "name": "python",
   "nbconvert_exporter": "python",
   "pygments_lexer": "ipython3",
   "version": "3.8.5"
  }
 },
 "nbformat": 4,
 "nbformat_minor": 4
}
